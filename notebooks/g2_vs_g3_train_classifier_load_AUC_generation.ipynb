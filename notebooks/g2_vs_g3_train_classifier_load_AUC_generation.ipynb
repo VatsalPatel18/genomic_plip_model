{
 "cells": [
  {
   "cell_type": "code",
   "execution_count": 4,
   "id": "1d7323d9-e977-44a1-b27c-b4f0d610c20f",
   "metadata": {},
   "outputs": [],
   "source": [
    "with open('Datasets/data_031524_1.pkl', 'rb') as f:\n",
    "    data = pickle.load(f)\n",
    "\n",
    "with open('Datasets/wsi_data_g2_g3.pkl', 'rb') as f:\n",
    "    wsi_data = pickle.load(f)\n",
    "\n",
    "with open('Datasets/data_info0315.pkl','rb') as f:\n",
    "    data_info = pickle.load(f)\n",
    "    X_train = data_info['train'];\n",
    "    X_test = data_info['test'];\n",
    "    X_validate = data_info['validate']\n"
   ]
  },
  {
   "cell_type": "code",
   "execution_count": 15,
   "id": "b34364ea-b3af-4ad6-aeb3-d149ee33cf62",
   "metadata": {},
   "outputs": [],
   "source": [
    "# data"
   ]
  },
  {
   "cell_type": "code",
   "execution_count": 3,
   "id": "4e1283ce-aa70-47d5-9443-ac5aee10b6a9",
   "metadata": {},
   "outputs": [],
   "source": [
    "import torch\n",
    "import torch.nn as nn\n",
    "import pickle\n",
    "from torch.utils.data import DataLoader\n",
    "\n",
    "# Define the model architecture (must match the saved model)\n",
    "class SimpleNN(nn.Module):\n",
    "    def __init__(self):\n",
    "        super(SimpleNN, self).__init__()\n",
    "        self.fc1 = nn.Linear(512, 512)\n",
    "        self.fc2 = nn.Linear(512, 256)\n",
    "        self.fc3 = nn.Linear(256, 1)\n",
    "\n",
    "    def forward(self, x):\n",
    "        x = torch.relu(self.fc1(x))\n",
    "        x = torch.relu(self.fc2(x))\n",
    "        x = torch.sigmoid(self.fc3(x))\n",
    "        return x\n",
    "\n",
    "# Load the saved model\n",
    "device = torch.device(\"cuda\" if torch.cuda.is_available() else \"cpu\")\n",
    "model = SimpleNN().to(device)\n",
    "model.load_state_dict(torch.load('models/pytorch_classifier4.pth'))\n",
    "\n",
    "# Ensure the model is in evaluation mode\n",
    "model.eval()\n",
    "\n",
    "# Load your data (assuming you have the data loaded similarly to your training script)\n",
    "# For example, using a pickle file\n",
    "with open('Datasets/wsi_data_g2_g3.pkl', 'rb') as f:\n",
    "    wsi_data = pickle.load(f)\n",
    "\n",
    "# You might have a list of patient IDs or similar to iterate over for predictions\n",
    "# Assuming wsi_data is a dictionary like in your training script\n",
    "y_pred = {}\n",
    "for pID in wsi_data:\n",
    "    wsi_tile_data = torch.tensor(wsi_data[pID]['tiles'], dtype=torch.float32).to(device)\n",
    "    with torch.no_grad():\n",
    "        wsi_outputs = model(wsi_tile_data)\n",
    "        wsi_mean_score = torch.mean(wsi_outputs).item()\n",
    "    y_pred[pID] = wsi_mean_score\n",
    "\n",
    "# y_pred now contains the predicted values for each ID\n",
    "# print(y_pred)\n"
   ]
  },
  {
   "cell_type": "code",
   "execution_count": null,
   "id": "afb1b1b0-74eb-4677-bd11-ab3848284ccf",
   "metadata": {},
   "outputs": [],
   "source": []
  },
  {
   "cell_type": "code",
   "execution_count": 13,
   "id": "f1440d7f-3b12-492b-b0ae-8e0ff133dd7b",
   "metadata": {},
   "outputs": [
    {
     "data": {
      "image/png": "[encoded data removed]",
      "text/plain": [
       "<Figure size 500x300 with 1 Axes>"
      ]
     },
     "metadata": {},
     "output_type": "display_data"
    }
   ],
   "source": [
    "import matplotlib.pyplot as plt\n",
    "from sklearn.metrics import roc_curve, auc\n",
    "\n",
    "def plot_roc_curves(model, datasets, wsi_data, labels=['Train', 'Validate', 'Test']):\n",
    "    plt.figure(figsize=(5, 3))\n",
    "\n",
    "    for data_ids, label in zip(datasets, labels):\n",
    "        y_true = []\n",
    "        y_scores = []\n",
    "\n",
    "        model.eval()  # Ensure the model is in evaluation mode\n",
    "        with torch.no_grad():\n",
    "            for pID in data_ids:\n",
    "                wsi_tile_data = torch.tensor(wsi_data[pID]['tiles'], dtype=torch.float32).to(device)\n",
    "                wsi_outputs = model(wsi_tile_data)\n",
    "                wsi_mean_score = torch.mean(wsi_outputs).item()\n",
    "\n",
    "                y_true.append(wsi_data[pID]['class'])\n",
    "                y_scores.append(wsi_mean_score)\n",
    "\n",
    "        fpr, tpr, _ = roc_curve(y_true, y_scores)\n",
    "        roc_auc = auc(fpr, tpr)\n",
    "\n",
    "        plt.plot(fpr, tpr, label=f\"{label} (AUC = {roc_auc:.2f})\")\n",
    "\n",
    "    plt.plot([0, 1], [0, 1], 'k--')\n",
    "    plt.xlim([0.0, 1.0])\n",
    "    plt.ylim([0.0, 1.05])\n",
    "    plt.xlabel('False Positive Rate')\n",
    "    plt.ylabel('True Positive Rate')\n",
    "    # plt.title('ROC Curves')\n",
    "    plt.legend(loc=\"lower right\")\n",
    "    plt.savefig('model_315_AUC_plot.jpeg',dpi=150)\n",
    "    plt.savefig('model_315_AUC_plot.png',dpi=150)\n",
    "    plt.show()\n",
    "\n",
    "# Use the function with your model and data\n",
    "plot_roc_curves(model, [X_train, X_validate, X_test], wsi_data)\n"
   ]
  },
  {
   "cell_type": "code",
   "execution_count": 10,
   "id": "3f0a2045-9614-435c-8475-9448b372ebd5",
   "metadata": {},
   "outputs": [
    {
     "name": "stdout",
     "output_type": "stream",
     "text": [
      "      Metric              Train           Validate               Test\n",
      "0        AUC  0.97 (0.94, 0.99)  0.94 (0.82, 1.00)  0.91 (0.75, 1.00)\n",
      "1   Accuracy  0.85 (0.79, 0.91)  0.91 (0.79, 1.00)  0.78 (0.57, 0.96)\n",
      "2  Precision  0.79 (0.71, 0.87)  0.86 (0.68, 1.00)  0.71 (0.44, 0.92)\n",
      "3     Recall  0.99 (0.95, 1.00)  1.00 (1.00, 1.00)  1.00 (1.00, 1.00)\n",
      "4   F1 Score  0.88 (0.82, 0.93)  0.92 (0.81, 1.00)  0.83 (0.62, 0.96)\n"
     ]
    }
   ],
   "source": [
    "import pandas as pd\n",
    "\n",
    "def calculate_metrics_and_ci(data_ids, wsi_data, model, ci=95):\n",
    "    y_true = []\n",
    "    y_pred_scores = []\n",
    "\n",
    "    model.eval()  # Ensure the model is in evaluation mode\n",
    "    with torch.no_grad():\n",
    "        for pID in data_ids:\n",
    "            wsi_tile_data = torch.tensor(wsi_data[pID]['tiles'], dtype=torch.float32).to(device)\n",
    "            wsi_outputs = model(wsi_tile_data)\n",
    "            wsi_mean_score = torch.mean(wsi_outputs).item()\n",
    "\n",
    "            y_true.append(wsi_data[pID]['class'])\n",
    "            y_pred_scores.append(wsi_mean_score)\n",
    "\n",
    "    y_true = np.array(y_true)\n",
    "    y_pred_scores = np.array(y_pred_scores)\n",
    "    y_pred = np.round(y_pred_scores).astype(int)\n",
    "\n",
    "    metrics_actual = {\n",
    "        'auc': roc_auc_score(y_true, y_pred_scores),\n",
    "        'accuracy': accuracy_score(y_true, y_pred),\n",
    "        'precision': precision_score(y_true, y_pred, zero_division=0),\n",
    "        'recall': recall_score(y_true, y_pred, zero_division=0),\n",
    "        'f1': f1_score(y_true, y_pred, zero_division=0)\n",
    "    }\n",
    "\n",
    "    ci_bounds = bootstrap_metrics(y_true, y_pred_scores, n_bootstraps=1000, ci=ci)\n",
    "\n",
    "    return metrics_actual, ci_bounds\n",
    "\n",
    "# Get actual metrics and CI bounds for Train, Validate, and Test sets\n",
    "train_actual, train_ci_bounds = calculate_metrics_and_ci(X_train, wsi_data, model)\n",
    "validate_actual, validate_ci_bounds = calculate_metrics_and_ci(X_validate, wsi_data, model)\n",
    "test_actual, test_ci_bounds = calculate_metrics_and_ci(X_test, wsi_data, model)\n",
    "\n",
    "# Combine into a DataFrame\n",
    "df_results = pd.DataFrame({\n",
    "    'Metric': ['AUC', 'Accuracy', 'Precision', 'Recall', 'F1 Score'],\n",
    "    'Train': [f\"{train_actual[metric]:.2f} ({train_ci_bounds[metric][0]:.2f}, {train_ci_bounds[metric][1]:.2f})\" for metric in train_actual],\n",
    "    'Validate': [f\"{validate_actual[metric]:.2f} ({validate_ci_bounds[metric][0]:.2f}, {validate_ci_bounds[metric][1]:.2f})\" for metric in validate_actual],\n",
    "    'Test': [f\"{test_actual[metric]:.2f} ({test_ci_bounds[metric][0]:.2f}, {test_ci_bounds[metric][1]:.2f})\" for metric in test_actual]\n",
    "})\n",
    "\n",
    "print(df_results)\n"
   ]
  },
  {
   "cell_type": "code",
   "execution_count": 12,
   "id": "2191c454-55dd-446d-8cd4-cbf7dbccd8dc",
   "metadata": {},
   "outputs": [],
   "source": [
    "df_results.to_csv('model_315_Metrics.csv')"
   ]
  },
  {
   "cell_type": "code",
   "execution_count": null,
   "id": "d7572bd0-ebb1-44f1-804a-2e9d87a203db",
   "metadata": {},
   "outputs": [],
   "source": []
  }
 ],
 "metadata": {
  "kernelspec": {
   "display_name": "Python [conda env:torch]",
   "language": "python",
   "name": "conda-env-torch-py"
  },
  "language_info": {
   "codemirror_mode": {
    "name": "ipython",
    "version": 3
   },
   "file_extension": ".py",
   "mimetype": "text/x-python",
   "name": "python",
   "nbconvert_exporter": "python",
   "pygments_lexer": "ipython3",
   "version": "3.10.10"
  }
 },
 "nbformat": 4,
 "nbformat_minor": 5
}
