{
 "cells": [
  {
   "cell_type": "code",
   "execution_count": 1,
   "id": "471c3f3b-0302-47f2-b685-7748ef442541",
   "metadata": {},
   "outputs": [],
   "source": [
    "import os\n",
    "import random\n",
    "import numpy as np\n",
    "import pandas as pd\n",
    "import torch\n",
    "from torch.utils.data import Dataset\n",
    "from PIL import Image\n",
    "from concurrent.futures import ThreadPoolExecutor\n",
    "from sklearn.model_selection import train_test_split\n",
    "import shutil"
   ]
  },
  {
   "cell_type": "code",
   "execution_count": null,
   "id": "6b5baede-610a-4bf4-b54a-d8fec85afa8d",
   "metadata": {},
   "outputs": [],
   "source": []
  },
  {
   "cell_type": "code",
   "execution_count": 4,
   "id": "d792a5fa-9229-4b68-bfb8-3bada939abfa",
   "metadata": {},
   "outputs": [],
   "source": [
    "import pickle"
   ]
  },
  {
   "cell_type": "code",
   "execution_count": null,
   "id": "d3585de3-df29-4f85-8a9b-2a71af51b8ee",
   "metadata": {},
   "outputs": [],
   "source": []
  },
  {
   "cell_type": "code",
   "execution_count": 66,
   "id": "a4b6e776-fd31-4fda-aa7f-6f18ffc9c41c",
   "metadata": {},
   "outputs": [],
   "source": [
    "# torch.load('kaal_extract/TCGA-BA-4074/TCGA-BA-4074_10_1.jpeg.pt')"
   ]
  },
  {
   "cell_type": "code",
   "execution_count": 2,
   "id": "048ab367-c46b-4fb0-82a2-df9b3771d541",
   "metadata": {},
   "outputs": [],
   "source": [
    "df23 =  pd.read_csv('g2_g3.csv')\n",
    "df23_2 = df23.set_index('HNSC')\n",
    "there = set(list(x[:] for x in df23_2.index))\n",
    "wsi_there = os.listdir('regular_plip_extracted/')\n",
    "use = list(there.intersection(wsi_there))\n",
    "df23_2 = df23_2.loc[use]\n",
    "df23_2['cluster'] = df23_2['cluster'] -2\n",
    "\n",
    "df23_3  = df23_2.sample(frac=1)\n",
    "\n",
    "class1 = list(df23_3[df23_3['cluster']==1].index)\n",
    "class0 = list(df23_3[df23_3['cluster']==0].index)\n",
    "\n",
    "from sklearn.model_selection import train_test_split\n",
    "C1_X_train, C1_X_test = train_test_split(class1, test_size=0.3)\n",
    "C0_X_train, C0_X_test = train_test_split(class0, test_size=0.3)\n",
    "\n",
    "C1_X_validate, C1_X_test = train_test_split(C1_X_test, test_size=0.4)\n",
    "C0_X_validate, C0_X_test = train_test_split(C0_X_test, test_size=0.4)\n",
    "\n",
    "\n",
    "X_train = [];X_train.extend(C1_X_train);X_train.extend(C0_X_train);\n",
    "X_test = [];X_test.extend(C1_X_test);X_test.extend(C0_X_test)\n",
    "X_validate = [];X_validate.extend(C1_X_validate);X_validate.extend(C0_X_validate)\n",
    "\n",
    "random.shuffle(X_train);\n",
    "random.shuffle(X_test)\n",
    "random.shuffle(X_validate);\n",
    "\n",
    "data_info = {};\n",
    "data_info['train'] = X_train;data_info['test'] = X_test;data_info['validate'] = X_validate\n",
    "\n",
    "\n"
   ]
  },
  {
   "cell_type": "code",
   "execution_count": 5,
   "id": "5e37ae11-aff8-44ac-956c-b357dfcf4b53",
   "metadata": {},
   "outputs": [],
   "source": [
    "with open('Datasets/data_info0315_regD.pkl','wb') as f:\n",
    "    pickle.dump(data_info,f)"
   ]
  },
  {
   "cell_type": "code",
   "execution_count": 6,
   "id": "4361d4ea-e4d5-45af-bc0f-434e6cb290b6",
   "metadata": {},
   "outputs": [],
   "source": [
    "# list(df23_2.index)"
   ]
  },
  {
   "cell_type": "code",
   "execution_count": 7,
   "id": "cc284034-13f4-48d1-9196-2b34113d23a5",
   "metadata": {},
   "outputs": [
    {
     "name": "stdout",
     "output_type": "stream",
     "text": [
      " C1 - Train : 70 , Validate : 12 , Test : 18 \n",
      " C0 - Train : 59 , Validate : 11 , Test : 15 \n"
     ]
    }
   ],
   "source": [
    "print(\" C1 - Train : {} , Validate : {} , Test : {} \".format(len(C1_X_train),len(C1_X_test),len(C1_X_validate)))\n",
    "print(\" C0 - Train : {} , Validate : {} , Test : {} \".format(len(C0_X_train),len(C0_X_test),len(C0_X_validate)))"
   ]
  },
  {
   "cell_type": "code",
   "execution_count": null,
   "id": "fb7f21a4-4300-41d9-8ebf-40a51f940648",
   "metadata": {},
   "outputs": [],
   "source": []
  },
  {
   "cell_type": "code",
   "execution_count": 8,
   "id": "c1fe1edb-a3d4-4671-abd1-6baba8e119ca",
   "metadata": {},
   "outputs": [],
   "source": [
    "data = {};\n",
    "data['train'] = {};data['test'] = {};data['validate'] = {};\n",
    "data['train']['X'] = [];data['train']['Y'] = []\n",
    "data['test']['X'] = [];data['test']['Y'] = []\n",
    "data['validate']['X'] = [];data['validate']['Y'] = []\n",
    "\n",
    "for i,pID in enumerate(X_train[:]):\n",
    "    fol_p = os.path.join('regular_plip_extracted/',pID) \n",
    "    tiles = os.listdir(fol_p)\n",
    "    tile_data = []\n",
    "    for tile in tiles:\n",
    "        tile_p = os.path.join(fol_p,tile)\n",
    "        \n",
    "        np1 = torch.load(tile_p).numpy()\n",
    "        # print(np1[0].shape)\n",
    "        tile_data.append(np1)\n",
    "        \n",
    "    data['train']['X'].extend(np.array(tile_data))\n",
    "    data['train']['Y'].extend(list(df23_3.loc[pID] for each in range(len(tile_data)) ))\n",
    "    # except:\n",
    "    #     print('not there {}'.format(pID))\n",
    "\n",
    "data['train']['X'] = np.array(data['train']['X']);\n",
    "data['train']['Y'] = np.array(data['train']['Y'])\n",
    "data['train']['X'] = np.squeeze(data['train']['X'], axis=1)\n",
    "\n",
    "\n",
    "for i, pID in enumerate(X_validate[:]):\n",
    "    fol_p = os.path.join('regular_plip_extracted/', pID)\n",
    "    tiles = os.listdir(fol_p)\n",
    "    tile_data = []\n",
    "    for tile in tiles:\n",
    "        tile_p = os.path.join(fol_p, tile)\n",
    "\n",
    "        np1 = torch.load(tile_p).numpy()\n",
    "        tile_data.append(np1)\n",
    "\n",
    "    data['validate']['X'].extend(np.array(tile_data))\n",
    "    data['validate']['Y'].extend([df23_3.loc[pID] for each in range(len(tile_data))])\n",
    "\n",
    "data['validate']['X'] = np.array(data['validate']['X'])\n",
    "data['validate']['Y'] = np.array(data['validate']['Y'])\n",
    "data['validate']['X'] = np.squeeze(data['validate']['X'], axis=1)\n",
    "\n",
    "\n",
    "for i, pID in enumerate(X_test[:]):\n",
    "    fol_p = os.path.join('regular_plip_extracted/', pID)\n",
    "    tiles = os.listdir(fol_p)\n",
    "    tile_data = []\n",
    "    for tile in tiles:\n",
    "        tile_p = os.path.join(fol_p, tile)\n",
    "\n",
    "        np1 = torch.load(tile_p).numpy()\n",
    "        tile_data.append(np1)\n",
    "\n",
    "    data['test']['X'].extend(np.array(tile_data))\n",
    "    data['test']['Y'].extend([df23_3.loc[pID] for each in range(len(tile_data))])\n",
    "\n",
    "data['test']['X'] = np.array(data['test']['X'])\n",
    "data['test']['Y'] = np.array(data['test']['Y'])\n",
    "data['test']['X'] = np.squeeze(data['test']['X'], axis=1)"
   ]
  },
  {
   "cell_type": "code",
   "execution_count": null,
   "id": "d046eb73-b199-435e-beb7-a8b52f513988",
   "metadata": {},
   "outputs": [],
   "source": []
  },
  {
   "cell_type": "code",
   "execution_count": 9,
   "id": "077d7811-28d4-4c20-8f68-7fe48b326cd3",
   "metadata": {},
   "outputs": [],
   "source": [
    "import pickle"
   ]
  },
  {
   "cell_type": "code",
   "execution_count": 10,
   "id": "07806b9f-6579-49e1-9c65-b02914bf5a3e",
   "metadata": {},
   "outputs": [],
   "source": [
    "with open('Datasets/data_031524_1_regD.pkl','wb') as f:\n",
    "    pickle.dump(data,f)"
   ]
  },
  {
   "cell_type": "code",
   "execution_count": 11,
   "id": "bd00cb15-7bb5-4484-9cd9-8d1f9a70d288",
   "metadata": {},
   "outputs": [],
   "source": [
    "wsi_data = {};\n",
    "for pID in df23_3.index:\n",
    "    fol_p = os.path.join('regular_plip_extracted/',pID)\n",
    "    tiles = os.listdir(fol_p) ;\n",
    "    tile_data = []\n",
    "    for tile in tiles:\n",
    "        tile_p = os.path.join(fol_p,tile);\n",
    "        tile_data.append(torch.load(tile_p).numpy())\n",
    "        \n",
    "    np1 = np.array(tile_data)\n",
    "    wsi_data[pID] = {} ;\n",
    "    wsi_data[pID]['tiles'] = np.squeeze(np1,axis=1)\n",
    "    wsi_data[pID]['class'] = df23_3.loc[pID][0]\n",
    "    "
   ]
  },
  {
   "cell_type": "code",
   "execution_count": 12,
   "id": "58b37381-5109-4823-9174-858dde774c4c",
   "metadata": {},
   "outputs": [
    {
     "data": {
      "text/plain": [
       "(833, 768)"
      ]
     },
     "execution_count": 12,
     "metadata": {},
     "output_type": "execute_result"
    }
   ],
   "source": [
    "wsi_data['TCGA-UF-A71E']['tiles'].shape"
   ]
  },
  {
   "cell_type": "code",
   "execution_count": 163,
   "id": "62e16fc4-4c16-421c-8af5-6b6af7a0a80a",
   "metadata": {},
   "outputs": [],
   "source": [
    "# wsi_data.keys()"
   ]
  },
  {
   "cell_type": "code",
   "execution_count": 13,
   "id": "fba54379-63c8-49a7-98df-d972ee19227d",
   "metadata": {},
   "outputs": [],
   "source": [
    "with open('Datasets/wsi_data_g2_g3_regD.pkl','wb') as f:\n",
    "    pickle.dump(wsi_data,f)"
   ]
  },
  {
   "cell_type": "code",
   "execution_count": null,
   "id": "56eb29eb-f301-4453-9ceb-6f5dc85eff3c",
   "metadata": {},
   "outputs": [],
   "source": []
  },
  {
   "cell_type": "code",
   "execution_count": null,
   "id": "ce2ff48e-30a0-45c4-9ad4-8c9c2110eeaa",
   "metadata": {},
   "outputs": [],
   "source": []
  },
  {
   "cell_type": "code",
   "execution_count": null,
   "id": "a9ffa131-997d-488c-8c91-3951e0f16378",
   "metadata": {},
   "outputs": [],
   "source": []
  }
 ],
 "metadata": {
  "kernelspec": {
   "display_name": "Python [conda env:torch]",
   "language": "python",
   "name": "conda-env-torch-py"
  },
  "language_info": {
   "codemirror_mode": {
    "name": "ipython",
    "version": 3
   },
   "file_extension": ".py",
   "mimetype": "text/x-python",
   "name": "python",
   "nbconvert_exporter": "python",
   "pygments_lexer": "ipython3",
   "version": "3.10.10"
  }
 },
 "nbformat": 4,
 "nbformat_minor": 5
}
